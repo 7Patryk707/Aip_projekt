{
 "cells": [
  {
   "cell_type": "markdown",
   "id": "36af1acd",
   "metadata": {},
   "source": [
    "### Zadanie 19\n",
    "W jaki sposób można obsłużyć wyjątek, gdy plik nie istnieje?"
   ]
  },
  {
   "cell_type": "code",
   "execution_count": null,
   "id": "fe6ffe45",
   "metadata": {},
   "outputs": [],
   "source": []
  },
  {
   "cell_type": "markdown",
   "id": "fa315db3",
   "metadata": {},
   "source": [
    "### Zadanie 17\n",
    "Jak zamknąć plik po zakończeniu operacji, jeśli nie używa się `with open(...)`?"
   ]
  },
  {
   "cell_type": "code",
   "execution_count": null,
   "id": "d78ceaa0",
   "metadata": {},
   "outputs": [],
   "source": []
  },
  {
   "cell_type": "markdown",
   "id": "bab1d975",
   "metadata": {},
   "source": [
    "### Zadanie 2\n",
    "Jak otworzyć plik tekstowy do odczytu i wczytać jego zawartość linia po linii?"
   ]
  },
  {
   "cell_type": "code",
   "execution_count": null,
   "id": "ba376f41",
   "metadata": {},
   "outputs": [],
   "source": []
  },
  {
   "cell_type": "markdown",
   "id": "c40ba6d3",
   "metadata": {},
   "source": [
    "### Zadanie 7\n",
    "Napisz dekorator, który sprawdza, czy użytkownik jest zalogowany, zanim wykona funkcję."
   ]
  },
  {
   "cell_type": "code",
   "execution_count": null,
   "id": "b49d98ab",
   "metadata": {},
   "outputs": [],
   "source": []
  },
  {
   "cell_type": "markdown",
   "id": "9a759985",
   "metadata": {},
   "source": [
    "### Zadanie 19\n",
    "W jaki sposób można obsłużyć wyjątek, gdy plik nie istnieje?"
   ]
  },
  {
   "cell_type": "code",
   "execution_count": null,
   "id": "9e344a95",
   "metadata": {},
   "outputs": [],
   "source": []
  }
 ],
 "metadata": {},
 "nbformat": 4,
 "nbformat_minor": 5
}
